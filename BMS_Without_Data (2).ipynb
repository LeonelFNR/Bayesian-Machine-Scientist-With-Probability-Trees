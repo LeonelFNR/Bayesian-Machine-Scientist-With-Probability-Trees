{
 "cells": [
  {
   "cell_type": "code",
   "execution_count": 1,
   "id": "49523188-0cbd-4975-90f4-4e33326b67bd",
   "metadata": {},
   "outputs": [],
   "source": [
    "import sys\n",
    "import numpy as np \n",
    "import pandas as pd\n",
    "import warnings\n",
    "import sympy \n",
    "warnings.filterwarnings('ignore')\n",
    "\n",
    "import matplotlib.pyplot as plt\n",
    "from copy import deepcopy\n",
    "from ipywidgets import IntProgress\n",
    "from IPython.display import display\n",
    "\n",
    "sys.path.append('./')\n",
    "sys.path.append('./Prior/')\n",
    "from mcmc import *\n",
    "from parallel import *\n",
    "from fit_prior import read_prior_par"
   ]
  },
  {
   "cell_type": "code",
   "execution_count": 2,
   "id": "dc686c73-d2e1-4b1f-b371-52c772b3a041",
   "metadata": {},
   "outputs": [],
   "source": [
    "# Read the hyperparameters for the prior\n",
    "prior_par = read_prior_par('./Prior/final_prior_param_sq.named_equations.nv2.np10.2016-09-09 18:49:42.600380.dat')\n",
    "\n",
    "# Set the temperatures for the parallel tempering\n",
    "Ts = [1] + [1.04**k for k in range(1, 20)]\n",
    "\n",
    "# Initialize the parallel machine scientist\n",
    "pms = Parallel(\n",
    "    Ts,\n",
    "    parameters=['a%d' % i for i in range(13)],\n",
    "    prior_par=prior_par,\n",
    ")"
   ]
  },
  {
   "cell_type": "code",
   "execution_count": 3,
   "id": "85144c86-90c1-4271-971e-55b7b9964c0c",
   "metadata": {},
   "outputs": [
    {
     "data": {
      "text/plain": [
       "'\\n#filepath = \"./Results_Leo/BMS_With_prior.txt\"\\nN = 20000\\nu = IntProgress(min=0, max=N, description=\\'Running:\\') # instantiate the bar\\ndisplay(u)\\n\\nwith open(filepath, \\'w\\') as f:\\n    for i in range(0,N):\\n        bms = another_generator(pms = pms).pr(show_pow = True)\\n        tuple = (pms.t1.E, bms)\\n        f.write(f\"{i}||{tuple[0]}||{tuple[1]}||\\n\")\\n        u.value +=1\\n        '"
      ]
     },
     "execution_count": 3,
     "metadata": {},
     "output_type": "execute_result"
    }
   ],
   "source": [
    "def another_generator(pms):\n",
    "    pms.mcmc_step()\n",
    "    pms.tree_swap()\n",
    "    return pms.t1\n",
    "'''\n",
    "#filepath = \"./Results_Leo/BMS_With_prior.txt\"\n",
    "N = 20000\n",
    "u = IntProgress(min=0, max=N, description='Running:') # instantiate the bar\n",
    "display(u)\n",
    "\n",
    "with open(filepath, 'w') as f:\n",
    "    for i in range(0,N):\n",
    "        bms = another_generator(pms = pms).pr(show_pow = True)\n",
    "        tuple = (pms.t1.E, bms)\n",
    "        f.write(f\"{i}||{tuple[0]}||{tuple[1]}||\\n\")\n",
    "        u.value +=1\n",
    "        '''"
   ]
  },
  {
   "cell_type": "markdown",
   "id": "a7ce3422-694b-4678-b8ac-a7612f9dafe6",
   "metadata": {},
   "source": [
    "## Part 2 Generate new data that did not appear in the previous file"
   ]
  },
  {
   "cell_type": "code",
   "execution_count": 4,
   "id": "f012d905-7e1c-467d-8a61-579837835b59",
   "metadata": {},
   "outputs": [],
   "source": [
    "desc_length_collector = set()\n",
    "previous_expressions_file = \"./Results_Leo/BMS_With_prior_nv2_np20.txt\"\n",
    "with open(previous_expressions_file, 'r') as f:\n",
    "    for line in f:\n",
    "        parts = line.strip().split(\"||\")\n",
    "        energy = parts[1]\n",
    "        desc_length_collector.add(energy)"
   ]
  },
  {
   "cell_type": "code",
   "execution_count": 5,
   "id": "c4305081-8ceb-41e5-a750-d09dcc1ddb8d",
   "metadata": {},
   "outputs": [
    {
     "name": "stdout",
     "output_type": "stream",
     "text": [
      "4986\n"
     ]
    }
   ],
   "source": [
    "print(len(desc_length_collector))"
   ]
  },
  {
   "cell_type": "markdown",
   "id": "dadce9b0-2d0a-4118-ba2b-2c0b8347f242",
   "metadata": {},
   "source": [
    "## Part 3 Generate another file of expressions that were not previously created"
   ]
  },
  {
   "cell_type": "code",
   "execution_count": 6,
   "id": "7583e584-1a8b-45c1-a201-6a4fdc56f2b9",
   "metadata": {},
   "outputs": [
    {
     "data": {
      "application/vnd.jupyter.widget-view+json": {
       "model_id": "7a59af56ff784fe6a76cb77cd00a1cbe",
       "version_major": 2,
       "version_minor": 0
      },
      "text/plain": [
       "IntProgress(value=0, description='Running: 0 / 20000', max=20000)"
      ]
     },
     "metadata": {},
     "output_type": "display_data"
    }
   ],
   "source": [
    "newfilepath = \"./Results_Leo/New_Datasets/BMS_With_prior_nv2_np20.txt\"\n",
    "\n",
    "N = 20000\n",
    "u = IntProgress(min=0, max=N, description=f'Running: 0 / {N}') \n",
    "display(u)\n",
    "\n",
    "with open(newfilepath, 'w') as f:\n",
    "    for i in range(N):  \n",
    "        bms = another_generator(pms=pms).pr(show_pow=True)\n",
    "        if str(pms.t1.E) not in desc_length_collector:  # Comprovar si  l'expressió és nova\n",
    "            f.write(f\"{i}||{pms.t1.E}||{bms}||\")\n",
    "            inner_dict = pms.t1.par_values['d0']\n",
    "            formatted_dict = {key.strip('_'): round(value,3) for key, value in inner_dict.items()}\n",
    "            dict_string = ', '.join([f\"{key} : {value}\" for key, value in formatted_dict.items()])\n",
    "            f.write(f\"{{{dict_string}}}\\n\")\n",
    "            u.value += 1\n",
    "            u.description = f'Running: {u.value} / {N}'"
   ]
  },
  {
   "cell_type": "code",
   "execution_count": null,
   "id": "ba9aa3f2-4bf4-40e8-9104-0ba52ac0cdaa",
   "metadata": {},
   "outputs": [],
   "source": []
  },
  {
   "cell_type": "code",
   "execution_count": null,
   "id": "70d4f2d7-3867-44a1-bf05-c3a98288f4d7",
   "metadata": {},
   "outputs": [],
   "source": []
  }
 ],
 "metadata": {
  "kernelspec": {
   "display_name": "Python 3 (ipykernel)",
   "language": "python",
   "name": "python3"
  },
  "language_info": {
   "codemirror_mode": {
    "name": "ipython",
    "version": 3
   },
   "file_extension": ".py",
   "mimetype": "text/x-python",
   "name": "python",
   "nbconvert_exporter": "python",
   "pygments_lexer": "ipython3",
   "version": "3.10.12"
  }
 },
 "nbformat": 4,
 "nbformat_minor": 5
}
