{
 "cells": [
  {
   "cell_type": "code",
   "execution_count": 1,
   "id": "7192730a-2c2f-4b12-991f-0604ab2eabe1",
   "metadata": {},
   "outputs": [],
   "source": [
    "import sys\n",
    "import numpy as np \n",
    "import pandas as pd\n",
    "import warnings\n",
    "import sympy \n",
    "import matplotlib as plt\n",
    "warnings.filterwarnings('ignore')\n",
    "\n",
    "from copy import deepcopy\n",
    "from ipywidgets import IntProgress\n",
    "from IPython.display import display\n",
    "\n",
    "sys.path.append('./')\n",
    "sys.path.append('./Prior/')\n",
    "from mcmc import *\n",
    "from parallel import *\n",
    "from fit_prior import read_prior_par\n",
    "\n",
    "#File related libraries\n",
    "from expression_writter import *\n",
    "\n",
    "#Writing files libraries\n",
    "import re\n",
    "from file_creator import *\n",
    "import os\n",
    "import pickle"
   ]
  },
  {
   "cell_type": "code",
   "execution_count": 2,
   "id": "5a6b9bbe-edb9-421a-83d8-6ef28e698e9e",
   "metadata": {},
   "outputs": [],
   "source": [
    "path = \"./KL/Probabilty_Trees/sin(1.5*x)*cos(0.5*z)_nv2_np20_mean0_stddev0.1.txt_GREEDY\""
   ]
  },
  {
   "cell_type": "code",
   "execution_count": 3,
   "id": "8eba68f8-6365-4a10-9088-c676dc65037c",
   "metadata": {},
   "outputs": [],
   "source": [
    "with open(path, 'rb') as f:\n",
    "    var1 = pickle.load(f)"
   ]
  },
  {
   "cell_type": "code",
   "execution_count": 4,
   "id": "81201058-a5cc-436e-96e1-b1a456cf65d4",
   "metadata": {},
   "outputs": [
    {
     "data": {
      "text/plain": [
       "'sqrt(z)'"
      ]
     },
     "execution_count": 4,
     "metadata": {},
     "output_type": "execute_result"
    }
   ],
   "source": [
    "var1.rand_func(show_pow = True)"
   ]
  },
  {
   "cell_type": "code",
   "execution_count": 5,
   "id": "b62db700-141e-4d8b-9168-8df0a2921e2a",
   "metadata": {},
   "outputs": [],
   "source": [
    "functionFolder = './KL/Generated_expressions/'\n",
    "newpathname = functionFolder + os.path.basename(path) + \"_Expressions_v2\""
   ]
  },
  {
   "cell_type": "code",
   "execution_count": 6,
   "id": "3d622fe8-1d97-4d04-97ac-3ad602009fda",
   "metadata": {},
   "outputs": [],
   "source": [
    "N = 10000\n",
    "\n",
    "with open(newpathname, 'w') as f:\n",
    "    for i in range(0,N):\n",
    "        f.write(var1.rand_func(show_pow = True) +\"\\n\")"
   ]
  },
  {
   "cell_type": "code",
   "execution_count": null,
   "id": "37892793-ac94-4309-ade7-1340e0165be9",
   "metadata": {},
   "outputs": [],
   "source": []
  }
 ],
 "metadata": {
  "kernelspec": {
   "display_name": "Python 3 (ipykernel)",
   "language": "python",
   "name": "python3"
  },
  "language_info": {
   "codemirror_mode": {
    "name": "ipython",
    "version": 3
   },
   "file_extension": ".py",
   "mimetype": "text/x-python",
   "name": "python",
   "nbconvert_exporter": "python",
   "pygments_lexer": "ipython3",
   "version": "3.10.12"
  }
 },
 "nbformat": 4,
 "nbformat_minor": 5
}
