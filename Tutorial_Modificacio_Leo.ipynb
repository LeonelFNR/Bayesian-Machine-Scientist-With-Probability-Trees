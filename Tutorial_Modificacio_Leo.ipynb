{
 "cells": [
  {
   "cell_type": "markdown",
   "metadata": {},
   "source": [
    "# Tutorial for the Bayesian machine scientist "
   ]
  },
  {
   "cell_type": "markdown",
   "metadata": {},
   "source": [
    "This tutorial illustrates how to program a Bayesian machine scientist, using the code provided here. The tutorial assumes general knowledge of Python programming. We start by importing all necessary Python modules:"
   ]
  },
  {
   "cell_type": "code",
   "execution_count": 1,
   "metadata": {},
   "outputs": [],
   "source": [
    "import sys\n",
    "import numpy as np \n",
    "import pandas as pd\n",
    "import warnings\n",
    "import sympy \n",
    "warnings.filterwarnings('ignore')\n",
    "\n",
    "import matplotlib.pyplot as plt\n",
    "from copy import deepcopy\n",
    "from ipywidgets import IntProgress\n",
    "from IPython.display import display\n",
    "\n",
    "sys.path.append('./')\n",
    "sys.path.append('./Prior/')\n",
    "from mcmc import *\n",
    "from parallel import *\n",
    "from fit_prior import read_prior_par"
   ]
  },
  {
   "cell_type": "markdown",
   "metadata": {},
   "source": [
    "## Loading and preparing the data "
   ]
  },
  {
   "cell_type": "markdown",
   "metadata": {},
   "source": [
    "We then load the data. In this particular case, we load the salmon stocks data. The features (independent variables) are loaded into a Pandas `DataFrame` named `x`, whereas the target (dependent) variable is loaded into a Pandas `Series` named `y`. Data should **always** be loaded in these formats to avoid problems. "
   ]
  },
  {
   "cell_type": "markdown",
   "metadata": {},
   "source": [
    "(Leo) Here I have a modification to test using the NGuyen dataset."
   ]
  },
  {
   "cell_type": "code",
   "execution_count": 2,
   "metadata": {
    "scrolled": true
   },
   "outputs": [
    {
     "name": "stdout",
     "output_type": "stream",
     "text": [
      "0      0.000000\n",
      "1      0.105215\n",
      "2      0.210138\n",
      "3      0.314479\n",
      "4      0.417949\n",
      "         ...   \n",
      "395    0.767211\n",
      "396    0.806181\n",
      "397    0.842920\n",
      "398    0.877323\n",
      "399    0.909297\n",
      "Name: y, Length: 400, dtype: float64\n"
     ]
    }
   ],
   "source": [
    "'''\n",
    "#PROVA\n",
    "#VERSIÓ PER UNA VARIABLE\n",
    "XLABS = ['x']\n",
    "xp = np.linspace(-1, 1, 20)\n",
    "raw_data = pd.DataFrame({'x': xp})\n",
    "\n",
    "def f(x):\n",
    "#creació funció prova\n",
    "    return  x**5 + x**4 + x**3 + x**2 +x\n",
    "yp = f(xp)\n",
    "x = raw_data[XLABS]\n",
    "y = pd.Series(yp)\n",
    "#x, y = raw_data[XLABS], pd.Series(yp)\n",
    "y.head()\n",
    "'''\n",
    "#VERSIÓ PER DUES VARIABLES\n",
    "XLABS = ['x','z']\n",
    "xp = np.linspace(0, 1, 20)\n",
    "zp = np.linspace(0,1,20)\n",
    "X,Z = np.meshgrid(xp,zp)\n",
    "\n",
    "def f(x,z):\n",
    "    return 2*np.sin(x)*np.cos(z)\n",
    "\n",
    "Y = f(X,Z)\n",
    "\n",
    "raw_data = pd.DataFrame({'x': X.ravel(), 'y': Y.ravel(), 'z': Z.ravel()})\n",
    "x = raw_data[XLABS]\n",
    "y = raw_data['y']\n",
    "\n",
    "print(y)\n",
    "\n",
    "\n",
    "\n"
   ]
  },
  {
   "cell_type": "markdown",
   "metadata": {},
   "source": [
    "## Initializing the Bayesian machine scienstist "
   ]
  },
  {
   "cell_type": "markdown",
   "metadata": {},
   "source": [
    "We start by initializing the machine scientist. This involves three steps:\n",
    "- **Reading the prior hyperparameters.** The values of the hyperparameters depend on the number of variables `nv` and parameters `np`considered during the search. Many combinations of `nv` and `np` have hyperparameters calculated in the `Prior` directory. Otherwise, the hyperparameters should be fit. \n",
    "- **Setting the \"temperatures\" for the parallel tempering.** If you don't know what parallel tempering is, you can read it in the Methods section of the paper, or just leave it as is in the code. In general, more temperatures (here 20) lead to better sampling of the expression space (we use a maximum of 100 different temperatures)\n",
    "- **Initializing the (parallel) scientist.**"
   ]
  },
  {
   "cell_type": "code",
   "execution_count": 3,
   "metadata": {},
   "outputs": [],
   "source": [
    "# Read the hyperparameters for the prior\n",
    "prior_par = read_prior_par('./Prior/final_prior_param_sq.named_equations.nv2.np10.2016-09-09 18:49:42.600380.dat')\n",
    "\n",
    "# Set the temperatures for the parallel tempering\n",
    "Ts = [1] + [1.04**k for k in range(1, 20)]\n",
    "\n",
    "# Initialize the parallel machine scientist\n",
    "pms = Parallel(\n",
    "    Ts,\n",
    "    variables=XLABS,\n",
    "    parameters=['a%d' % i for i in range(13)],\n",
    "    x=x, y=y,\n",
    "    prior_par=prior_par,\n",
    ")"
   ]
  },
  {
   "cell_type": "markdown",
   "metadata": {},
   "source": [
    "## Sampling expressions with the Bayesian machine scientist "
   ]
  },
  {
   "cell_type": "markdown",
   "metadata": {},
   "source": [
    "We are now ready to start sampling expressions with the Bayesian machine scientist, using MCMC. In its simplest form, one just needs to run the `mcmc_step()` and the `tree_swap()` methods as many times as necessary. `mcmc_step()` performs an MCMC update at each of the temperatures of the parallel tempering, whereas `tree_swap()` attempts to swap the expressions at two consecutive temperatures."
   ]
  },
  {
   "cell_type": "code",
   "execution_count": 4,
   "metadata": {},
   "outputs": [
    {
     "data": {
      "application/vnd.jupyter.widget-view+json": {
       "model_id": "7730a2277521449b94f8e31df373a66d",
       "version_major": 2,
       "version_minor": 0
      },
      "text/plain": [
       "IntProgress(value=0, description='Running:')"
      ]
     },
     "metadata": {},
     "output_type": "display_data"
    }
   ],
   "source": [
    "# Number of MCMC steps\n",
    "nstep = 1000\n",
    "\n",
    "# Draw a progress bar to keep track of the MCMC progress\n",
    "f = IntProgress(min=0, max=nstep, description='Running:') # instantiate the bar\n",
    "display(f)\n",
    "\n",
    "# MCMC\n",
    "for i in range(nstep):\n",
    "    # MCMC update\n",
    "    pms.mcmc_step() # MCMC step within each T\n",
    "    pms.tree_swap() # Attempt to swap two randomly selected consecutive temps\n",
    "    # Update the progress bar\n",
    "    f.value += 1"
   ]
  },
  {
   "cell_type": "markdown",
   "metadata": {},
   "source": [
    "Typically, of course, one wants to do something other than just generate expressions. For example, one may want to keep track of the most plausible (or, equivalently, the minimum description length) model visited so far by the MCMC, or to keep a trace of some of the properties of the sampled expressions. The example below keeps the best model, as well as a trace of all the description lengths visited. Note that, in `Parallel` objects, the relevant expression is stored in the `t1` attribute (which stands for temperature 1)."
   ]
  },
  {
   "cell_type": "code",
   "execution_count": 5,
   "metadata": {
    "scrolled": true
   },
   "outputs": [
    {
     "data": {
      "application/vnd.jupyter.widget-view+json": {
       "model_id": "cd5c3c66739741d98f55f5aa743e0275",
       "version_major": 2,
       "version_minor": 0
      },
      "text/plain": [
       "IntProgress(value=0, description='Running:')"
      ]
     },
     "metadata": {},
     "output_type": "display_data"
    }
   ],
   "source": [
    "# Number of MCMC steps\n",
    "nstep = 100\n",
    "\n",
    "# Draw a progress bar to keep track of the MCMC progress\n",
    "f = IntProgress(min=0, max=nstep, description='Running:') # instantiate the bar\n",
    "display(f)\n",
    "\n",
    "# MCMC\n",
    "description_lengths, mdl, mdl_model = [], np.inf, None\n",
    "for i in range(nstep):\n",
    "    # MCMC update\n",
    "    pms.mcmc_step() # MCMC step within each T\n",
    "    pms.tree_swap() # Attempt to swap two randomly selected consecutive temps\n",
    "    # Add the description length to the trace\n",
    "    description_lengths.append(pms.t1.E)\n",
    "    # Check if this is the MDL expression so far\n",
    "    if pms.t1.E < mdl:\n",
    "        mdl, mdl_model = pms.t1.E, deepcopy(pms.t1)\n",
    "    # Update the progress bar\n",
    "    f.value += 1"
   ]
  },
  {
   "cell_type": "markdown",
   "metadata": {},
   "source": [
    "So let's take a look at the objects we stored. Here is the best model sampled by the machine scientist:"
   ]
  },
  {
   "cell_type": "code",
   "execution_count": 6,
   "metadata": {},
   "outputs": [
    {
     "name": "stdout",
     "output_type": "stream",
     "text": [
      "Best model:\t (tanh(x) * _a11_)\n",
      "Desc. length:\t -158.415745014798\n"
     ]
    }
   ],
   "source": [
    "print('Best model:\\t', mdl_model)\n",
    "print('Desc. length:\\t', mdl)"
   ]
  },
  {
   "cell_type": "markdown",
   "metadata": {},
   "source": [
    "(Leo) Veiem el valor de les constants i paràmetres abans"
   ]
  },
  {
   "cell_type": "code",
   "execution_count": 7,
   "metadata": {
    "scrolled": true
   },
   "outputs": [
    {
     "data": {
      "text/plain": [
       "{'d0': {'_a11_': 1.7949747812285535,\n",
       "  '_a0_': 1.0,\n",
       "  '_a1_': 1.0,\n",
       "  '_a2_': 1.0,\n",
       "  '_a3_': 1.0,\n",
       "  '_a4_': 1.0,\n",
       "  '_a5_': 1.0,\n",
       "  '_a6_': 1.0,\n",
       "  '_a7_': 1.0,\n",
       "  '_a8_': 1.0,\n",
       "  '_a9_': 1.0,\n",
       "  '_a10_': 1.0,\n",
       "  '_a12_': 1.0}}"
      ]
     },
     "metadata": {},
     "output_type": "display_data"
    }
   ],
   "source": [
    "display(mdl_model.par_values)"
   ]
  },
  {
   "cell_type": "markdown",
   "metadata": {},
   "source": [
    "(Leo) Veiem també com ens queda la funció "
   ]
  },
  {
   "cell_type": "code",
   "execution_count": 8,
   "metadata": {},
   "outputs": [],
   "source": [
    "def round_expr(expr, num_digits):\n",
    "    return expr.xreplace({n : round(n, num_digits) for n in expr.atoms(Number)})\n",
    "    \n",
    "def latex_val(t):\n",
    "    cansp = sympify(str(t).replace('_', ''))\n",
    "    cansp = cansp.subs(dict([(str(p).replace('_', ''), v) for p, v in t.par_values['d0'].items()]))\n",
    "    #cansp = sympy.simplify(cansp)\n",
    "    return sympy.latex(round_expr(cansp, 2))"
   ]
  },
  {
   "cell_type": "code",
   "execution_count": 9,
   "metadata": {},
   "outputs": [
    {
     "data": {
      "text/plain": [
       "'c_{1} \\\\tanh{\\\\left(x \\\\right)}'"
      ]
     },
     "metadata": {},
     "output_type": "display_data"
    }
   ],
   "source": [
    "display(mdl_model.latex())"
   ]
  },
  {
   "cell_type": "markdown",
   "metadata": {},
   "source": [
    "And here is the trace of the description length:"
   ]
  },
  {
   "cell_type": "code",
   "execution_count": 10,
   "metadata": {},
   "outputs": [
    {
     "data": {
      "text/plain": [
       "<function matplotlib.pyplot.show(close=None, block=None)>"
      ]
     },
     "execution_count": 10,
     "metadata": {},
     "output_type": "execute_result"
    },
    {
     "data": {
      "image/png": "[encoded data removed]",
      "text/plain": [
       "<Figure size 1500x500 with 1 Axes>"
      ]
     },
     "metadata": {},
     "output_type": "display_data"
    }
   ],
   "source": [
    "plt.figure(figsize=(15, 5))\n",
    "plt.plot(description_lengths)\n",
    "plt.xlabel('MCMC step', fontsize=14)\n",
    "plt.ylabel('Description length', fontsize=14)\n",
    "plt.title('MDL model: $%s$' % latex_val(mdl_model))\n",
    "plt.show"
   ]
  },
  {
   "cell_type": "markdown",
   "metadata": {},
   "source": [
    "## Making predictions with the Bayesian machine scientist "
   ]
  },
  {
   "cell_type": "markdown",
   "metadata": {},
   "source": [
    "Finally, we typically want to make predictions with models. In this regard, the interface of the machine scientist is similar to those in Scikit Learn: to make a prediction we call the `predict(x)` method, with an argument that has the same format as the training `x`, that is, a Pandas `DataFrame` with the exact same columns."
   ]
  },
  {
   "cell_type": "code",
   "execution_count": 11,
   "metadata": {},
   "outputs": [
    {
     "data": {
      "image/png": "[encoded data removed]",
      "text/plain": [
       "<Figure size 600x600 with 1 Axes>"
      ]
     },
     "metadata": {},
     "output_type": "display_data"
    }
   ],
   "source": [
    "plt.figure(figsize=(6, 6))\n",
    "plt.scatter(mdl_model.predict(x), y)\n",
    "plt.plot((-6, 0), (-6, 0))\n",
    "plt.xlabel('MDL model predictions', fontsize=14)\n",
    "plt.ylabel('Actual values', fontsize=14)\n",
    "plt.show()"
   ]
  },
  {
   "cell_type": "markdown",
   "metadata": {},
   "source": [
    "## Further refinements "
   ]
  },
  {
   "cell_type": "markdown",
   "metadata": {},
   "source": [
    "The examples above are only intended to illustrate how a basic MCMC would be implemented. In practice, there are other considerations that we kept in mind in all the experiments reported in the manuscriot, and that anyone using the code should too:\n",
    "- **Equilibration**: One should not start sampling until the MCMC has converged to the stationary distribution. Although determining when a sample is in equilibrium, a necessary condition is that the description length is not increasing or, more typically, decreasing. The trace of the description length should be flat (except for fluctuations) before we start collecting samples.\n",
    "- **Thinning**: MCMC samples should be thinned, so only one in, say, 100 samples are kept for the trace. Otherwise, one is getting highly correlated samples, which may lead to, for example, erroneous estimates of confidence intervals.\n",
    "- **Getting trapped**: Despite the parallel tempering, the MCMC can get trapped in local minima of the description length. For this, we typically keep track of the number of steps since the last `tree_swap()` move was accepted for each temperature. If a particular temperature has *not* accepted swaps in a long time, then we anneal the whole system, that is, we increase all temperatures and decrease them slowly back to equilibrium so as to escape the local minima. Using several restarts of the MCMC and comparing the results is also a convenient check.\n",
    "- **Memory issues**: By default, the machine scientist keeps a cache of all visited models, so as to avoid duplicates of previously considered models, as well as to speed up the process of obtaining the maximum likelihood estimators of the model parameters. For long MCMC chains this becomes memory intensive, so it may be convenient to periodically clean this cache (or, at least, old models in this cache) by reinitializing the `fit_pat` and `representative` attributes of the `Parallel` instance."
   ]
  },
  {
   "cell_type": "code",
   "execution_count": null,
   "metadata": {},
   "outputs": [],
   "source": []
  }
 ],
 "metadata": {
  "kernelspec": {
   "display_name": "Python 3 (ipykernel)",
   "language": "python",
   "name": "python3"
  },
  "language_info": {
   "codemirror_mode": {
    "name": "ipython",
    "version": 3
   },
   "file_extension": ".py",
   "mimetype": "text/x-python",
   "name": "python",
   "nbconvert_exporter": "python",
   "pygments_lexer": "ipython3",
   "version": "3.10.12"
  }
 },
 "nbformat": 4,
 "nbformat_minor": 4
}
