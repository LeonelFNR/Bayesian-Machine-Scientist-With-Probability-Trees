{
 "cells": [
  {
   "cell_type": "code",
   "execution_count": 8,
   "id": "724f32dd-3bee-4ce8-aa16-80bb4575f24e",
   "metadata": {},
   "outputs": [],
   "source": [
    "import sys\n",
    "import numpy as np \n",
    "import pandas as pd\n",
    "import warnings\n",
    "import sympy \n",
    "import matplotlib as plt\n",
    "warnings.filterwarnings('ignore')\n",
    "\n",
    "from copy import deepcopy\n",
    "from ipywidgets import IntProgress\n",
    "from IPython.display import display\n",
    "\n",
    "sys.path.append('./')\n",
    "sys.path.append('./Prior/')\n",
    "from mcmc import *\n",
    "from parallel import *\n",
    "from fit_prior import read_prior_par\n",
    "\n",
    "#File related libraries\n",
    "from expression_writter import *\n",
    "\n",
    "#Writing files libraries\n",
    "import re\n",
    "from file_creator import *\n",
    "import os\n",
    "import pickle"
   ]
  },
  {
   "cell_type": "code",
   "execution_count": 24,
   "id": "8fbebcad-4a86-4852-af31-ea2bf0702826",
   "metadata": {},
   "outputs": [],
   "source": [
    "filetree = './KL/Probabilty_Trees/ 3.39*x**3 + 2.12*x**2 + 1.78*x_nv1_np10_mean0_stddev0.1.txt_GREEDY'"
   ]
  },
  {
   "cell_type": "code",
   "execution_count": 25,
   "id": "56010234-1484-4bbc-9d6e-48c97a194c1c",
   "metadata": {},
   "outputs": [],
   "source": [
    "with open(filetree, 'rb') as f:\n",
    "    arbre = pickle.load(f)"
   ]
  },
  {
   "cell_type": "code",
   "execution_count": 26,
   "id": "c6dbd2f1-8bec-4a75-b6d5-ef9ae34dd29e",
   "metadata": {},
   "outputs": [
    {
     "data": {
      "text/plain": [
       "{'x': 0.01762050583953038,\n",
       " '_a0_': 0.01762050583953038,\n",
       " '_a1_': 0.01762050583953038,\n",
       " '_a2_': 0.01762050583953038,\n",
       " '_a3_': 0.01762050583953038,\n",
       " '_a4_': 0.01762050583953038,\n",
       " '_a5_': 0.01762050583953038,\n",
       " '_a6_': 0.01762050583953038,\n",
       " '_a7_': 0.01762050583953038,\n",
       " '_a8_': 0.01762050583953038,\n",
       " '_a9_': 0.01762050583953038,\n",
       " '_a10_': 0.01762050583953038,\n",
       " '_a11_': 0.01762050583953038,\n",
       " '_a12_': 0.01762050583953038,\n",
       " 'sin': 0.028282562695641705,\n",
       " 'cos': 0.028282562695641705,\n",
       " 'tan': 0.028282562695641705,\n",
       " 'exp': 0.028282562695641705,\n",
       " 'log': 0.028282562695641705,\n",
       " 'sinh': 0.2725093524206655,\n",
       " 'cosh': 0.028282562695641705,\n",
       " 'tanh': 0.028282562695641705,\n",
       " 'pow2': 0.028282562695641705,\n",
       " 'pow3': 0.028282562695641705,\n",
       " 'abs': 0.028282562695641705,\n",
       " 'sqrt': 0.028282562695641705,\n",
       " 'fac': 0.028282562695641705,\n",
       " '-': 0.028282562695641705,\n",
       " '+': 0.028282562695641705,\n",
       " '*': 0.028282562695641705,\n",
       " '/': 0.028282562695641705,\n",
       " '**': 0.028282562695641705}"
      ]
     },
     "execution_count": 26,
     "metadata": {},
     "output_type": "execute_result"
    }
   ],
   "source": [
    "arbre.root.prob_list"
   ]
  },
  {
   "cell_type": "code",
   "execution_count": 10,
   "id": "b82805df-b8ef-4a3b-8bc0-a33c20884d97",
   "metadata": {},
   "outputs": [
    {
     "data": {
      "text/plain": [
       "18"
      ]
     },
     "execution_count": 10,
     "metadata": {},
     "output_type": "execute_result"
    }
   ],
   "source": [
    "len(arbolUDO.root.ops_list)"
   ]
  },
  {
   "cell_type": "code",
   "execution_count": 20,
   "id": "51a41e92-016d-4d44-a233-18a73a0050d3",
   "metadata": {},
   "outputs": [],
   "source": [
    "node_list = arbolUDO.root.node_run()"
   ]
  },
  {
   "cell_type": "code",
   "execution_count": 21,
   "id": "74ae7239-46e2-4286-b0b4-0fe418db28c2",
   "metadata": {},
   "outputs": [
    {
     "data": {
      "text/plain": [
       "127"
      ]
     },
     "execution_count": 21,
     "metadata": {},
     "output_type": "execute_result"
    }
   ],
   "source": [
    "len(node_list)"
   ]
  },
  {
   "cell_type": "code",
   "execution_count": null,
   "id": "daebc397-19b3-47b3-8c5c-077571b478a8",
   "metadata": {},
   "outputs": [],
   "source": []
  }
 ],
 "metadata": {
  "kernelspec": {
   "display_name": "Python 3 (ipykernel)",
   "language": "python",
   "name": "python3"
  },
  "language_info": {
   "codemirror_mode": {
    "name": "ipython",
    "version": 3
   },
   "file_extension": ".py",
   "mimetype": "text/x-python",
   "name": "python",
   "nbconvert_exporter": "python",
   "pygments_lexer": "ipython3",
   "version": "3.10.12"
  }
 },
 "nbformat": 4,
 "nbformat_minor": 5
}
