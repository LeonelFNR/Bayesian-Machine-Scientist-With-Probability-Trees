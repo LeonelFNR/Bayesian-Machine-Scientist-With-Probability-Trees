{
 "cells": [
  {
   "cell_type": "code",
   "execution_count": 2,
   "id": "d5e48603-65fe-4434-a461-370fff77e1da",
   "metadata": {},
   "outputs": [],
   "source": [
    "import sys\n",
    "import numpy as np \n",
    "import pandas as pd\n",
    "import warnings\n",
    "import sympy \n",
    "import matplotlib as plt\n",
    "warnings.filterwarnings('ignore')\n",
    "\n",
    "from copy import deepcopy\n",
    "from ipywidgets import IntProgress\n",
    "from IPython.display import display\n",
    "\n",
    "sys.path.append('./')\n",
    "sys.path.append('./Prior/')\n",
    "from mcmc import *\n",
    "from parallel import *\n",
    "from fit_prior import read_prior_par\n",
    "\n",
    "#File related libraries\n",
    "from expression_writter import *\n",
    "\n",
    "#Writing files libraries\n",
    "import re\n",
    "from file_creator import *\n",
    "import os\n",
    "import pickle"
   ]
  },
  {
   "cell_type": "code",
   "execution_count": 5,
   "id": "0b0d7cf2-5aa0-483f-8a23-0cdd8166002b",
   "metadata": {},
   "outputs": [],
   "source": [
    "ProbTreeFile = \"./KL/Probabilty_Trees/BMS_With_prior_nv2_np20.txt_GREEDY\"\n",
    "ExpressionFile = \"./KL/Generated_expressions/BMS_With_prior_nv2_np20.txt_GREEDY_Expressions\"\n",
    "directoryPrior = \"./Prior/\""
   ]
  },
  {
   "cell_type": "code",
   "execution_count": 26,
   "id": "a0abcbd7-787d-4a82-90bb-33ec329a23ca",
   "metadata": {},
   "outputs": [
    {
     "name": "stdout",
     "output_type": "stream",
     "text": [
      "(6.69508906069221, 0.0010958458372284053)\n"
     ]
    },
    {
     "data": {
      "text/plain": [
       "50.3571501460169"
      ]
     },
     "execution_count": 26,
     "metadata": {},
     "output_type": "execute_result"
    }
   ],
   "source": [
    "#Function to count the number of appearences of an operation in an expression\n",
    "\n",
    "def count_ops(tree):\n",
    "    operations = OPS.keys()\n",
    "    counter = {op: 0 for op in operations}\n",
    "\n",
    "    #Look for operations\n",
    "    def run(node):\n",
    "        if node is None:\n",
    "            return\n",
    "        if node.value in counter:\n",
    "            counter[node.value] += 1\n",
    "\n",
    "        #now run through offspring\n",
    "        for offs in node.offspring:\n",
    "            run(offs)\n",
    "    run(tree.root)\n",
    "    return counter\n",
    "            \n",
    "\n",
    "#Functions in order to look for the appropiate prior file\n",
    "def extract_nv_np(filename):\n",
    "    match = re.search(r'nv(\\d+).*?np(\\d+)', filename)\n",
    "    if match:\n",
    "        return match.group(1), match.group(2)\n",
    "    return None, None\n",
    "\n",
    "def find_file(directoryPrior, filename):\n",
    "    nv, np = extract_nv_np(filename)\n",
    "    if nv is None or np is None:\n",
    "        return None\n",
    "\n",
    "    pattern = rf'nv{nv}\\.np{np}\\.'\n",
    "\n",
    "    #obtain all the files from the directory\n",
    "    fileList = os.listdir(directoryPrior)\n",
    "\n",
    "    for file in fileList:\n",
    "        if re.search(pattern, file):\n",
    "            return os.path.join(directoryPrior, file)\n",
    "    return None\n",
    "\n",
    "def create_prior_dict(file):\n",
    "    with open(file, 'r') as f:\n",
    "        lines = f.readlines()\n",
    "        ops = lines[0].strip().split()\n",
    "        values = list(map(float,lines[1].strip().split()))\n",
    "        prior_dict = dict(zip(ops,values))\n",
    "    return prior_dict\n",
    "\n",
    "def prior_dict(directoryPrior, filename):\n",
    "    priorFile = find_file(directoryPrior, filename)\n",
    "    return create_prior_dict(priorFile)\n",
    "\n",
    "def retrieve_coef(priorDict, operation):\n",
    "    key1 = \"Nopi_\" + operation\n",
    "    key2 = \"Nopi2_\" + operation\n",
    "\n",
    "    a , b = priorDict[key1], priorDict[key2]\n",
    "    return a,b\n",
    "\n",
    "priorDict = prior_dict(directoryPrior= directoryPrior, filename = ExpressionFile)\n",
    "#print(priorDict)\n",
    "print(retrieve_coef(priorDict, \"sin\"))\n",
    "\n",
    "def bms_prob(expr, priorDict):\n",
    "    tree_exp = Tree(from_string = expr)\n",
    "    counter = count_ops(tree_exp)\n",
    "    minusLog = 0\n",
    "\n",
    "    for key, value in counter.items():\n",
    "        if value > 0:\n",
    "            a,b = retrieve_coef(priorDict, key)\n",
    "            minusLog += a*value + b*value**2\n",
    "    return np.exp(-(minusLog))\n",
    "\n",
    "def bms_energy(expr, priorDict):\n",
    "    tree_exp = Tree(from_string = expr)\n",
    "    counter = count_ops(tree_exp)\n",
    "    minusLog = 0\n",
    "\n",
    "    for key, value in counter.items():\n",
    "        if value > 0:\n",
    "            a,b = retrieve_coef(priorDict, key)\n",
    "            minusLog += a*value + b*value**2 #Energy/Description length\n",
    "    return minusLog\n",
    "    \n",
    "expression = \"sinh(((pow2((_a8_ + _a12_)) * pow3(pow3(_a9_))) + (_a3_ * _a12_)))\"\n",
    "bms_energy(expression, priorDict)"
   ]
  },
  {
   "cell_type": "code",
   "execution_count": 24,
   "id": "faf88af3-6788-4507-aca7-49b8b668d998",
   "metadata": {},
   "outputs": [],
   "source": [
    "from sympy.parsing.latex import parse_latex\n",
    "from sympy import symbols, sqrt, log\n",
    "\n",
    "\n",
    "def subcustom_format(expr):\n",
    "    \"\"\"\n",
    "    Convert a Sympy expression to BMS-friendly expression\n",
    "    \"\"\"\n",
    "    if expr.is_Atom:  # If it is a number or a variable, return without changes\n",
    "        return str(expr)\n",
    "    \n",
    "    if expr.is_Function:  # For functions s.a. sqrt, sin, log, which have argument ()\n",
    "        func_name = expr.func.__name__\n",
    "        args = [custom_format(arg) for arg in expr.args]\n",
    "        \n",
    "        # Handle of logarithms, so that the base is not specified.\n",
    "        if func_name == \"log\" and len(args) == 2:\n",
    "            return f\"log({args[0]})\"\n",
    "        \n",
    "        return f\"{func_name}({', '.join(args)})\"\n",
    "    \n",
    "    if expr.is_Add or expr.is_Mul:  # Sumas y productos\n",
    "        op = ' + ' if expr.is_Add else ' * '\n",
    "        formatted = op.join(subcustom_format(arg) for arg in expr.args)\n",
    "        return f\"({formatted})\"\n",
    "    \n",
    "    if expr.is_Pow:  # Potencias (A**B)\n",
    "        base, exp = expr.args\n",
    "        return f\"({subcustom_format(base)} ** {subcustom_format(exp)})\"\n",
    "    \n",
    "    if expr.is_Div:  # División (A/B)\n",
    "        num, den = expr.args\n",
    "        return f\"({subcustom_format(num)} / {subcustom_format(den)})\"\n",
    "    \n",
    "    return str(expr)\n",
    "\n",
    "def custom_format(latex_expr):\n",
    "    sympy_expr = parse_latex(latex_expr)\n",
    "    formatted_expr = subcustom_format(sympy_expr)\n",
    "    return formatted_expr"
   ]
  },
  {
   "cell_type": "code",
   "execution_count": 25,
   "id": "218e3338-636a-42c1-9b3b-ffdb70232775",
   "metadata": {},
   "outputs": [],
   "source": [
    "a = custom_format(r\"\\sqrt{\\frac{K+(4/3)\\mu}{\\rho}}\")\n",
    "newTree = Tree(from_string=a)"
   ]
  },
  {
   "cell_type": "code",
   "execution_count": 22,
   "id": "cb010312-ab1d-4bcb-b851-519a080aa7d9",
   "metadata": {},
   "outputs": [
    {
     "name": "stdout",
     "output_type": "stream",
     "text": [
      "**['*', '1/2']\n",
      "*['+', '**']\n",
      "+['K', '*']\n",
      "K[]\n",
      "*['*', 'mu']\n",
      "*['4', '**']\n",
      "4[]\n",
      "**['3', '-1']\n",
      "3[]\n",
      "-1[]\n",
      "mu[]\n",
      "**['rho', '-1']\n",
      "rho[]\n",
      "-1[]\n",
      "1/2[]\n"
     ]
    }
   ],
   "source": [
    "#recorrer arbre\n",
    "def recorrer(arrel):\n",
    "    llista = [ele.value for ele in arrel.offspring]\n",
    "    print(f\"{arrel.value}\" + f\"{llista}\")\n",
    "    [recorrer(ele) for ele in arrel.offspring]    \n",
    "\n",
    "    \n",
    "recorrer(newTree.root)"
   ]
  },
  {
   "cell_type": "code",
   "execution_count": 27,
   "id": "9b1baa98-3b19-45ee-8f99-f4fa3c3e7422",
   "metadata": {},
   "outputs": [
    {
     "data": {
      "text/plain": [
       "45.56349242741382"
      ]
     },
     "execution_count": 27,
     "metadata": {},
     "output_type": "execute_result"
    }
   ],
   "source": [
    "bms_energy(a, priorDict)"
   ]
  },
  {
   "cell_type": "code",
   "execution_count": null,
   "id": "235ee297-e539-4509-8bd0-30748f01ae0c",
   "metadata": {},
   "outputs": [],
   "source": []
  }
 ],
 "metadata": {
  "kernelspec": {
   "display_name": "Python 3 (ipykernel)",
   "language": "python",
   "name": "python3"
  },
  "language_info": {
   "codemirror_mode": {
    "name": "ipython",
    "version": 3
   },
   "file_extension": ".py",
   "mimetype": "text/x-python",
   "name": "python",
   "nbconvert_exporter": "python",
   "pygments_lexer": "ipython3",
   "version": "3.10.12"
  }
 },
 "nbformat": 4,
 "nbformat_minor": 5
}
